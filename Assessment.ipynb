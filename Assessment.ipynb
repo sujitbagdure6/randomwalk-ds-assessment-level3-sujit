{
 "cells": [
  {
   "cell_type": "code",
   "execution_count": 1,
   "id": "69f8b5b2",
   "metadata": {},
   "outputs": [],
   "source": [
    "import pandas as pd\n",
    "import matplotlib.pyplot as plt\n",
    "\n",
    "#load csv files\n",
    "books = pd.read_csv('books.csv')\n",
    "book_tags = pd.read_csv('book_tags.csv')\n",
    "ratings = pd.read_csv('ratings.csv')"
   ]
  },
  {
   "cell_type": "code",
   "execution_count": 2,
   "id": "9826c9a9",
   "metadata": {},
   "outputs": [
    {
     "name": "stdout",
     "output_type": "stream",
     "text": [
      "no. of books without original_title: 36\n"
     ]
    }
   ],
   "source": [
    "# Q1\n",
    "q1 = books['original_title'].isnull().sum()\n",
    "print(f\"no. of books without original_title: {q1}\")"
   ]
  },
  {
   "cell_type": "code",
   "execution_count": 19,
   "id": "1bfd5f9b",
   "metadata": {},
   "outputs": [
    {
     "name": "stdout",
     "output_type": "stream",
     "text": [
      "no. of unique books after cleaning: 363\n"
     ]
    }
   ],
   "source": [
    "# Q2\n",
    "books_cleaned = books.dropna(subset=['original_title'])\n",
    "book_tags_cleaned = book_tags[book_tags['goodreads_book_id'].isin(books_cleaned['goodreads_book_id'])]\n",
    "ratings_cleaned = ratings[ratings['book_id'].isin(books_cleaned['book_id'])]\n",
    "unique_books_after_cleaning = books_cleaned['book_id'].nunique()\n",
    "print(f\"no. of unique books after cleaning: {unique_books_after_cleaning}\")"
   ]
  },
  {
   "cell_type": "code",
   "execution_count": 8,
   "id": "cda072d6",
   "metadata": {},
   "outputs": [
    {
     "name": "stdout",
     "output_type": "stream",
     "text": [
      "no. of unique users: 40836\n"
     ]
    }
   ],
   "source": [
    "# Q3\n",
    "unique = ratings['user_id'].nunique()\n",
    "print(f\"no. of unique users: {unique}\")"
   ]
  },
  {
   "cell_type": "code",
   "execution_count": 9,
   "id": "7e979be0",
   "metadata": {},
   "outputs": [
    {
     "name": "stdout",
     "output_type": "stream",
     "text": [
      "no. of unique tags: 3651\n"
     ]
    }
   ],
   "source": [
    "# Q4\n",
    "uniquetags = book_tags['tag_id'].nunique()\n",
    "print(f\"no. of unique tags: {uniquetags}\")"
   ]
  },
  {
   "cell_type": "code",
   "execution_count": 10,
   "id": "95a22040",
   "metadata": {},
   "outputs": [
    {
     "name": "stdout",
     "output_type": "stream",
     "text": [
      "Most frequently used tag_id: 4600\n"
     ]
    }
   ],
   "source": [
    "# Q5\n",
    "tag_counts = book_tags_cleaned['tag_id'].value_counts()\n",
    "most_tag_id = tag_counts.idxmax()\n",
    "print(f\"Most frequently used tag_id: {most_tag_id}\")"
   ]
  },
  {
   "cell_type": "code",
   "execution_count": 11,
   "id": "34dc3e99",
   "metadata": {},
   "outputs": [
    {
     "name": "stdout",
     "output_type": "stream",
     "text": [
      "books with highest tag counts: Another Bullshit Night in Suck City\n"
     ]
    }
   ],
   "source": [
    "# Q6\n",
    "book_tag_counts = book_tags_cleaned.groupby('goodreads_book_id').size()\n",
    "book_with_most_tags = book_tag_counts.idxmax()\n",
    "title_with_most_tags = books.loc[books['goodreads_book_id'] == book_with_most_tags, 'title'].values[0]\n",
    "print(f\"books with highest tag counts: {title_with_most_tags}\")"
   ]
  },
  {
   "cell_type": "code",
   "execution_count": 25,
   "id": "04131e98",
   "metadata": {},
   "outputs": [
    {
     "name": "stdout",
     "output_type": "stream",
     "text": [
      "1: [4600, 30574, 21689, 4605, 21773, 22743, 4615, 11557, 5207, 8717, 18045, 4594, 19738, 19733, 22753, 30521, 19742, 3611, 17213, 32586]\n",
      "X: [363, 362, 362, 361, 360, 357, 357, 357, 356, 354, 354, 351, 346, 341, 336, 335, 326, 323, 319, 310]\n"
     ]
    },
    {
     "data": {
      "image/png": "[encoded data removed]",
      "text/plain": [
       "<Figure size 640x480 with 1 Axes>"
      ]
     },
     "metadata": {},
     "output_type": "display_data"
    }
   ],
   "source": [
    "# Q7\n",
    "top_20_tags = book_tags_cleaned['tag_id'].value_counts().head(20)\n",
    "top_20_tagsname = top_20_tags.index.tolist()\n",
    "print(f\"1: {top_20_tagsname}\")\n",
    "top_20_tags_counts = top_20_tags.values.tolist()\n",
    "print(f\"X: {top_20_tags_counts}\")\n",
    "#plt.figure(figsize=(10, 6))\n",
    "plt.barh(top_20_tagsname, top_20_tags_counts)\n",
    "plt.show()"
   ]
  },
  {
   "cell_type": "code",
   "execution_count": null,
   "id": "6b06b618",
   "metadata": {},
   "outputs": [],
   "source": []
  }
 ],
 "metadata": {
  "kernelspec": {
   "display_name": "Python 3 (ipykernel)",
   "language": "python",
   "name": "python3"
  },
  "language_info": {
   "codemirror_mode": {
    "name": "ipython",
    "version": 3
   },
   "file_extension": ".py",
   "mimetype": "text/x-python",
   "name": "python",
   "nbconvert_exporter": "python",
   "pygments_lexer": "ipython3",
   "version": "3.11.5"
  }
 },
 "nbformat": 4,
 "nbformat_minor": 5
}
